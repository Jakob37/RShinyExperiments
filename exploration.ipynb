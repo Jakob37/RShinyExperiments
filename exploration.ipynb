{
 "cells": [
  {
   "cell_type": "code",
   "execution_count": 1,
   "metadata": {},
   "outputs": [
    {
     "name": "stderr",
     "output_type": "stream",
     "text": [
      "Warning message:\n",
      "“replacing previous import by ‘tidyr::%>%’ when loading ‘broom’”Warning message:\n",
      "“replacing previous import by ‘tidyr::gather’ when loading ‘broom’”Warning message:\n",
      "“replacing previous import by ‘tidyr::spread’ when loading ‘broom’”── Attaching packages ─────────────────────────────────────── tidyverse 1.2.1 ──\n",
      "✔ ggplot2 2.2.1     ✔ purrr   0.2.4\n",
      "✔ tibble  1.4.2     ✔ dplyr   0.7.4\n",
      "✔ tidyr   0.7.2     ✔ stringr 1.2.0\n",
      "✔ readr   1.1.1     ✔ forcats 0.2.0\n",
      "── Conflicts ────────────────────────────────────────── tidyverse_conflicts() ──\n",
      "✖ dplyr::filter() masks stats::filter()\n",
      "✖ dplyr::lag()    masks stats::lag()\n"
     ]
    }
   ],
   "source": [
    "library(tidyverse)"
   ]
  },
  {
   "cell_type": "code",
   "execution_count": 2,
   "metadata": {},
   "outputs": [
    {
     "name": "stderr",
     "output_type": "stream",
     "text": [
      "Parsed with column specification:\n",
      "cols(\n",
      "  Feature = col_character(),\n",
      "  s1 = col_double(),\n",
      "  s2 = col_double(),\n",
      "  s3 = col_double(),\n",
      "  s4 = col_double()\n",
      ")\n",
      "Parsed with column specification:\n",
      "cols(\n",
      "  sample = col_character(),\n",
      "  cond1 = col_character(),\n",
      "  cond2 = col_integer()\n",
      ")\n"
     ]
    }
   ],
   "source": [
    "data_df <- read_tsv(\"expression_exploration/ExpressionExploration//data/data.tsv\")\n",
    "design_df <- read_tsv(\"expression_exploration/ExpressionExploration//data/design.tsv\")\n"
   ]
  },
  {
   "cell_type": "code",
   "execution_count": 7,
   "metadata": {},
   "outputs": [
    {
     "data": {
      "text/html": [
       "<dl class=dl-horizontal>\n",
       "\t<dt>s1</dt>\n",
       "\t\t<dd>11.9011341156</dd>\n",
       "\t<dt>s2</dt>\n",
       "\t\t<dd>8.8278875005</dd>\n",
       "\t<dt>s3</dt>\n",
       "\t\t<dd>9.0972652568</dd>\n",
       "\t<dt>s4</dt>\n",
       "\t\t<dd>8.35257894</dd>\n",
       "</dl>\n"
      ],
      "text/latex": [
       "\\begin{description*}\n",
       "\\item[s1] 11.9011341156\n",
       "\\item[s2] 8.8278875005\n",
       "\\item[s3] 9.0972652568\n",
       "\\item[s4] 8.35257894\n",
       "\\end{description*}\n"
      ],
      "text/markdown": [
       "s1\n",
       ":   11.9011341156s2\n",
       ":   8.8278875005s3\n",
       ":   9.0972652568s4\n",
       ":   8.35257894\n",
       "\n"
      ],
      "text/plain": [
       "       s1        s2        s3        s4 \n",
       "11.901134  8.827888  9.097265  8.352579 "
      ]
     },
     "metadata": {},
     "output_type": "display_data"
    }
   ],
   "source": [
    "colSums(data_df[, design_df$sample])"
   ]
  }
 ],
 "metadata": {
  "kernelspec": {
   "display_name": "R",
   "language": "R",
   "name": "ir"
  },
  "language_info": {
   "codemirror_mode": "r",
   "file_extension": ".r",
   "mimetype": "text/x-r-source",
   "name": "R",
   "pygments_lexer": "r",
   "version": "3.2.3"
  }
 },
 "nbformat": 4,
 "nbformat_minor": 2
}
