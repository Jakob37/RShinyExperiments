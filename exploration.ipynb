{
 "cells": [
  {
   "cell_type": "code",
   "execution_count": 1,
   "metadata": {},
   "outputs": [
    {
     "name": "stderr",
     "output_type": "stream",
     "text": [
      "Warning message:\n",
      "“replacing previous import by ‘tidyr::%>%’ when loading ‘broom’”Warning message:\n",
      "“replacing previous import by ‘tidyr::gather’ when loading ‘broom’”Warning message:\n",
      "“replacing previous import by ‘tidyr::spread’ when loading ‘broom’”── Attaching packages ─────────────────────────────────────── tidyverse 1.2.1 ──\n",
      "✔ ggplot2 2.2.1     ✔ purrr   0.2.4\n",
      "✔ tibble  1.4.2     ✔ dplyr   0.7.4\n",
      "✔ tidyr   0.7.2     ✔ stringr 1.2.0\n",
      "✔ readr   1.1.1     ✔ forcats 0.2.0\n",
      "── Conflicts ────────────────────────────────────────── tidyverse_conflicts() ──\n",
      "✖ dplyr::filter() masks stats::filter()\n",
      "✖ dplyr::lag()    masks stats::lag()\n"
     ]
    }
   ],
   "source": [
    "library(tidyverse)"
   ]
  },
  {
   "cell_type": "code",
   "execution_count": 34,
   "metadata": {},
   "outputs": [
    {
     "name": "stderr",
     "output_type": "stream",
     "text": [
      "Parsed with column specification:\n",
      "cols(\n",
      "  .default = col_double(),\n",
      "  `Protein IDs` = col_character(),\n",
      "  `Majority protein IDs` = col_character()\n",
      ")\n",
      "See spec(...) for full column specifications.\n",
      "Parsed with column specification:\n",
      "cols(\n",
      "  sample = col_character(),\n",
      "  samp_nbr = col_integer(),\n",
      "  bull = col_character(),\n",
      "  all_high_fert = col_character(),\n",
      "  kviga_high_fert = col_character(),\n",
      "  all_high_fert_val = col_double(),\n",
      "  kviga_high_fert_val = col_double(),\n",
      "  in_mid_range = col_character()\n",
      ")\n"
     ]
    }
   ],
   "source": [
    "data_df <- read_tsv(\"expression_exploration/ExpressionExploration//data/bull_data.tsv\")\n",
    "design_df <- read_tsv(\"expression_exploration/ExpressionExploration//data/bull_design.tsv\")\n"
   ]
  },
  {
   "cell_type": "code",
   "execution_count": 35,
   "metadata": {},
   "outputs": [
    {
     "data": {
      "text/html": [
       "<ol class=list-inline>\n",
       "\t<li>'Protein IDs'</li>\n",
       "\t<li>'Majority protein IDs'</li>\n",
       "</ol>\n"
      ],
      "text/latex": [
       "\\begin{enumerate*}\n",
       "\\item 'Protein IDs'\n",
       "\\item 'Majority protein IDs'\n",
       "\\end{enumerate*}\n"
      ],
      "text/markdown": [
       "1. 'Protein IDs'\n",
       "2. 'Majority protein IDs'\n",
       "\n",
       "\n"
      ],
      "text/plain": [
       "[1] \"Protein IDs\"          \"Majority protein IDs\""
      ]
     },
     "metadata": {},
     "output_type": "display_data"
    }
   ],
   "source": [
    "colnames(data_df)[which(!colnames(data_df) %in% design_df$sample)]"
   ]
  },
  {
   "cell_type": "code",
   "execution_count": 36,
   "metadata": {},
   "outputs": [
    {
     "name": "stdout",
     "output_type": "stream",
     "text": [
      "Observations: 42\n",
      "Variables: 8\n",
      "$ sample              <chr> \"S01\", \"S02\", \"S03\", \"S04\", \"S05\", \"S06\", \"S07\"...\n",
      "$ samp_nbr            <int> 1, 2, 3, 4, 5, 6, 7, 8, 9, 10, 11, 12, 13, 14, ...\n",
      "$ bull                <chr> \"Galant\", \"Numero\", \"Speedy\", \"Borat\", \"Basudan...\n",
      "$ all_high_fert       <chr> \"NO\", \"NO\", \"YES\", \"YES\", \"YES\", \"NO\", \"YES\", \"...\n",
      "$ kviga_high_fert     <chr> \"NO\", \"YES\", \"YES\", NA, \"YES\", \"NO\", \"YES\", \"YE...\n",
      "$ all_high_fert_val   <dbl> 39.1, 40.6, 66.7, 52.6, 57.4, 34.5, 56.2, 57.3,...\n",
      "$ kviga_high_fert_val <dbl> 50.0, 81.0, 87.0, NA, 71.4, 51.8, 76.5, 81.3, 7...\n",
      "$ in_mid_range        <chr> \"NO\", \"NO\", \"NO\", \"NO\", \"NO\", \"NO\", \"NO\", \"NO\",...\n"
     ]
    }
   ],
   "source": [
    "glimpse(design_df)"
   ]
  },
  {
   "cell_type": "code",
   "execution_count": 37,
   "metadata": {},
   "outputs": [
    {
     "name": "stdout",
     "output_type": "stream",
     "text": [
      "Observations: 1,110\n",
      "Variables: 44\n",
      "$ `Protein IDs`          <chr> \"Q56J78|Q56J78_BOVIN;F1MMW8|F1MMW8_BOVIN;A0A...\n",
      "$ `Majority protein IDs` <chr> \"Q56J78|Q56J78_BOVIN;F1MMW8|F1MMW8_BOVIN;A0A...\n",
      "$ S01                    <dbl> 20.58044, NA, 20.73793, 19.89583, 17.02213, ...\n",
      "$ S02                    <dbl> NA, NA, 20.73843, NA, NA, 26.09065, 19.60695...\n",
      "$ S03                    <dbl> NA, NA, 20.40941, NA, NA, 26.86506, 21.15781...\n",
      "$ S04                    <dbl> NA, NA, 20.22782, 19.23612, NA, 24.70535, 20...\n",
      "$ S05                    <dbl> NA, NA, 19.12194, NA, NA, 23.98497, 18.41724...\n",
      "$ S06                    <dbl> 18.13740, NA, 20.99079, NA, NA, 26.16666, 21...\n",
      "$ S07                    <dbl> 19.45939, NA, 22.39194, 21.47710, 18.81876, ...\n",
      "$ S08                    <dbl> NA, NA, 19.69231, NA, NA, 26.49150, 20.74524...\n",
      "$ S09                    <dbl> NA, NA, 19.61289, 18.76347, 19.49892, 25.873...\n",
      "$ S10                    <dbl> 16.62100, NA, 20.20358, NA, 17.99362, 25.926...\n",
      "$ S11                    <dbl> 19.89889, NA, 21.32001, 20.40442, NA, 25.079...\n",
      "$ S12                    <dbl> NA, NA, 20.61516, 17.02805, NA, 26.19542, 20...\n",
      "$ S13                    <dbl> NA, NA, 19.97108, 18.70105, NA, 26.23217, 20...\n",
      "$ S14                    <dbl> 20.29706, NA, 21.15841, 19.21344, NA, 26.684...\n",
      "$ S15                    <dbl> 20.07295, 20.47798, 19.99051, 17.82623, NA, ...\n",
      "$ S16                    <dbl> NA, NA, 17.43600, NA, NA, 23.89338, 19.97779...\n",
      "$ S17                    <dbl> 20.50133, NA, 19.72977, 17.75027, NA, 24.113...\n",
      "$ S18                    <dbl> 21.28308, NA, 21.23385, 18.64821, 19.59142, ...\n",
      "$ S19                    <dbl> NA, NA, 21.07625, 18.78009, 18.85800, 26.353...\n",
      "$ S20                    <dbl> NA, NA, 20.80593, 21.30568, NA, 26.68133, 22...\n",
      "$ S21                    <dbl> 19.12132, NA, 20.45013, 19.06343, 18.81315, ...\n",
      "$ S22                    <dbl> 20.28677, NA, 20.17095, NA, NA, 24.41132, 20...\n",
      "$ S23                    <dbl> NA, NA, 20.23949, NA, NA, 26.39299, 21.33311...\n",
      "$ S24                    <dbl> NA, NA, 22.79072, 21.98038, 20.43094, 25.927...\n",
      "$ S25                    <dbl> 20.57611, NA, 21.38599, 19.14022, NA, 25.768...\n",
      "$ S26                    <dbl> 17.56115, NA, 21.93767, 20.55509, NA, 24.231...\n",
      "$ S27                    <dbl> NA, NA, 19.96128, NA, NA, 25.61469, 20.39420...\n",
      "$ S28                    <dbl> 18.17694, NA, 19.03389, 17.15808, NA, 26.340...\n",
      "$ S29                    <dbl> NA, NA, 19.50335, NA, 18.51515, 26.68404, 21...\n",
      "$ S30                    <dbl> NA, NA, 19.55008, NA, NA, 25.58599, 19.07678...\n",
      "$ S31                    <dbl> 20.14362, NA, 19.32032, NA, NA, 23.94809, 19...\n",
      "$ S32                    <dbl> NA, NA, 20.38765, NA, NA, 24.29229, 20.77779...\n",
      "$ S33                    <dbl> 20.81055, NA, 21.46118, 19.61080, NA, 26.642...\n",
      "$ S34                    <dbl> 19.10949, NA, 20.03776, NA, NA, 26.01525, 20...\n",
      "$ S35                    <dbl> 20.73399, NA, NA, NA, NA, 26.02651, 22.50979...\n",
      "$ S36                    <dbl> 17.52507, NA, 21.66203, 21.32467, 18.00216, ...\n",
      "$ S37                    <dbl> NA, NA, 20.86135, 18.36613, 18.68803, 26.077...\n",
      "$ S38                    <dbl> 16.67185, NA, 20.78998, NA, NA, 24.55434, 20...\n",
      "$ S39                    <dbl> NA, NA, 19.90432, 18.19639, NA, 24.12262, 19...\n",
      "$ S40                    <dbl> NA, NA, 20.76116, NA, NA, 25.85351, 19.23959...\n",
      "$ S41                    <dbl> NA, NA, 21.37423, 19.16313, 19.07414, 26.175...\n",
      "$ S42                    <dbl> 19.86499, 20.25360, 19.56598, 17.22957, NA, ...\n"
     ]
    }
   ],
   "source": [
    "glimpse(data_df)"
   ]
  }
 ],
 "metadata": {
  "kernelspec": {
   "display_name": "R",
   "language": "R",
   "name": "ir"
  },
  "language_info": {
   "codemirror_mode": "r",
   "file_extension": ".r",
   "mimetype": "text/x-r-source",
   "name": "R",
   "pygments_lexer": "r",
   "version": "3.2.3"
  }
 },
 "nbformat": 4,
 "nbformat_minor": 2
}
